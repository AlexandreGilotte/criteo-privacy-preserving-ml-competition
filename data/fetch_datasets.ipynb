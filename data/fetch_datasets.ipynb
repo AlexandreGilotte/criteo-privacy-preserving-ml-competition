{
 "cells": [
  {
   "cell_type": "markdown",
   "metadata": {},
   "source": [
    "# Fetch AdKDD challenge dataset"
   ]
  },
  {
   "cell_type": "code",
   "execution_count": null,
   "metadata": {},
   "outputs": [],
   "source": [
    "!wget \"http://go.criteo.net/criteo-ppml-challenge-adkdd21-dataset.zip\"\n",
    "!unzip criteo-ppml-challenge-adkdd21-dataset.zip && rm criteo-ppml-challenge-adkdd21-dataset.zip\n",
    "!gunzip *.gz"
   ]
  },
  {
   "cell_type": "markdown",
   "metadata": {},
   "source": [
    "# Fetch granular data used to generate aggregated data points"
   ]
  },
  {
   "cell_type": "code",
   "execution_count": null,
   "metadata": {},
   "outputs": [],
   "source": [
    "!wget \"http://go.criteo.net/criteo-ppml-challenge-adkdd21-dataset-raw-granular-data.csv.gz\"\n",
    "!gunzip criteo-ppml-challenge-adkdd21-dataset-raw-granular-data.csv.gz"
   ]
  },
  {
   "cell_type": "markdown",
   "metadata": {},
   "source": [
    "# Fetch additional data used to perform different experiments"
   ]
  },
  {
   "cell_type": "code",
   "execution_count": null,
   "metadata": {},
   "outputs": [],
   "source": [
    "!wget \"http://go.criteo.net/criteo-ppml-challenge-adkdd21-dataset-additional-test-data.csv.gz\"\n",
    "!gunzip criteo-ppml-challenge-adkdd21-dataset-additional-test-data.csv.gz"
   ]
  }
 ],
 "metadata": {
  "interpreter": {
   "hash": "19e5348912ddaa51a3da2546ef45d6f7bc8f9355b34c4d858b53909d0dd099d5"
  },
  "kernelspec": {
   "display_name": "Python 3.7.10 64-bit",
   "language": "python",
   "name": "python3"
  },
  "language_info": {
   "codemirror_mode": {
    "name": "ipython",
    "version": 3
   },
   "file_extension": ".py",
   "mimetype": "text/x-python",
   "name": "python",
   "nbconvert_exporter": "python",
   "pygments_lexer": "ipython3",
   "version": "3.7.10"
  },
  "orig_nbformat": 4
 },
 "nbformat": 4,
 "nbformat_minor": 2
}
