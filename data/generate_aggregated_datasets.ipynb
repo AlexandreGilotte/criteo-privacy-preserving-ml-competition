{
 "cells": [
  {
   "cell_type": "markdown",
   "id": "9f031ce1",
   "metadata": {},
   "source": [
    "This notebook read the large train set, and produce aggregated data similar to those provided in the challenge.\n",
    "Those aggregated data are then saved on disk to use as input of the ML algos.\n",
    "Unlike the challenge data however, we do not add Gaussian noise to the aggregated data; to allow comparing the results with different levels of noise. Remember that a Gaussian noise of sigma 17 should be added to get a dataset really similar to the one we provided in the challenge."
   ]
  },
  {
   "cell_type": "code",
   "execution_count": null,
   "id": "eeefe999",
   "metadata": {},
   "outputs": [],
   "source": [
    "import numpy as np\n",
    "import pandas as pd\n"
   ]
  },
  {
   "cell_type": "code",
   "execution_count": null,
   "id": "6e2e1a38",
   "metadata": {},
   "outputs": [],
   "source": [
    "labels = [\"click\", \"sale\"]\n",
    "allfeatures = [\"hash_\" + str(i) for i in range(0, 19)]\n"
   ]
  },
  {
   "cell_type": "code",
   "execution_count": null,
   "id": "73d97c4a",
   "metadata": {},
   "outputs": [],
   "source": [
    "def aggregate_on_features(features, mincount, filename):\n",
    "    df = pd.read_csv(filename, usecols=labels + features, dtype=np.int32)\n",
    "    df[\"c\"] = 1\n",
    "    df = df.groupby(features).sum().reset_index()\n",
    "    df = df[df.c > mincount].copy()\n",
    "    return df\n"
   ]
  },
  {
   "cell_type": "code",
   "execution_count": null,
   "id": "d00b92eb",
   "metadata": {},
   "outputs": [],
   "source": [
    "def aggregate_on_all_pairs(\n",
    "    allfeatures,\n",
    "    mincount=10,\n",
    "    filename=\"criteo-ppml-challenge-adkdd21-dataset-raw-granular-data.csv\",\n",
    "    gaussian_sigma=None,\n",
    "):\n",
    "    allpairsdf = pd.DataFrame()\n",
    "    for f0 in allfeatures:\n",
    "        feature_1_id = int(f0.split(\"_\")[-1])\n",
    "        for f1 in allfeatures:\n",
    "            feature_2_id = int(f1.split(\"_\")[-1])\n",
    "            if not feature_1_id < feature_2_id:\n",
    "                continue\n",
    "            print(\"aggregating on\", f0, f1)\n",
    "            features = [f0, f1]\n",
    "            df = aggregate_on_features(features, mincount, filename)\n",
    "            df[\"feature_1_id\"] = feature_1_id\n",
    "            df[\"feature_2_id\"] = feature_2_id\n",
    "            df = df.rename(\n",
    "                {\n",
    "                    features[0]: \"feature_1_value\",\n",
    "                    features[1]: \"feature_2_value\",\n",
    "                },\n",
    "                axis=1,\n",
    "            )\n",
    "            allpairsdf = pd.concat([allpairsdf, df])\n",
    "    if gaussian_sigma is not None:\n",
    "        allpairsdf[\"c\"] += np.random.normal(0, gaussian_sigma, len(allpairsdf))\n",
    "        allpairsdf[\"click\"] += np.random.normal(0, gaussian_sigma, len(allpairsdf))\n",
    "        allpairsdf[\"sale\"] += np.random.normal(0, gaussian_sigma, len(allpairsdf))\n",
    "    return allpairsdf\n"
   ]
  },
  {
   "cell_type": "code",
   "execution_count": null,
   "id": "c879c4cf",
   "metadata": {},
   "outputs": [],
   "source": [
    "## This may take severals hours:\n",
    "# - there are 19*18/2 = 171 pairs of features to process,\n",
    "# - each of them requires to read the full csv and run in a few minutes\n",
    "# Memory requirement is about 10 Go (Mostly from pandas overhead)\n",
    "allpairsdf = aggregate_on_all_pairs(allfeatures)\n"
   ]
  },
  {
   "cell_type": "code",
   "execution_count": null,
   "id": "a3a63edd",
   "metadata": {},
   "outputs": [],
   "source": [
    "allpairsdf.to_csv(\"aggregated_pairs.csv\", index=True)\n"
   ]
  },
  {
   "cell_type": "code",
   "execution_count": null,
   "id": "3f63b35e",
   "metadata": {},
   "outputs": [],
   "source": [
    "def aggregate_on_all_single(\n",
    "    allfeatures, mincount=0, filename=\"criteo-ppml-challenge-adkdd21-dataset-raw-granular-data.csv\", gaussianSigma=None\n",
    "):\n",
    "    allpairsdf = pd.DataFrame()\n",
    "    for f0 in allfeatures:\n",
    "        print(\"aggregating on\", f0)\n",
    "\n",
    "        features = [f0]\n",
    "        df = aggregate_on_features(features, mincount, filename)\n",
    "        df[\"feature_1_id\"] = int(f0.split(\"_\")[-1])\n",
    "        df = df.rename({features[0]: \"feature_1_value\"}, axis=1)\n",
    "        allpairsdf = pd.concat([allpairsdf, df])\n",
    "    if gaussianSigma is not None:\n",
    "        allpairsdf[\"c\"] += np.random.normal(0, gaussianSigma, len(allpairsdf))\n",
    "        allpairsdf[\"click\"] += np.random.normal(0, gaussianSigma, len(allpairsdf))\n",
    "        allpairsdf[\"sale\"] += np.random.normal(0, gaussianSigma, len(allpairsdf))\n",
    "    return allpairsdf\n"
   ]
  },
  {
   "cell_type": "code",
   "execution_count": null,
   "id": "1d2baf46",
   "metadata": {},
   "outputs": [],
   "source": [
    "allsingles = aggregate_on_all_single(allfeatures)\n"
   ]
  },
  {
   "cell_type": "code",
   "execution_count": null,
   "id": "116a4fe3",
   "metadata": {},
   "outputs": [],
   "source": [
    "allsingles.to_csv(\"aggregated_singles.csv\", index=True)\n"
   ]
  }
 ],
 "metadata": {
  "hide_input": false,
  "interpreter": {
   "hash": "a36b085e9ff735ee0fad94699c928a54e5528d32a02652250964e3ed6cb11995"
  },
  "kernelspec": {
   "display_name": "Python Criteo (MOAB #43678)",
   "language": "python",
   "name": "python3"
  },
  "language_info": {
   "codemirror_mode": {
    "name": "ipython",
    "version": 3
   },
   "file_extension": ".py",
   "mimetype": "text/x-python",
   "name": "python",
   "nbconvert_exporter": "python",
   "pygments_lexer": "ipython3"
  },
  "toc": {
   "base_numbering": 1,
   "nav_menu": {},
   "number_sections": true,
   "sideBar": true,
   "skip_h1_title": false,
   "title_cell": "Table of Contents",
   "title_sidebar": "Contents",
   "toc_cell": false,
   "toc_position": {},
   "toc_section_display": true,
   "toc_window_display": false
  }
 },
 "nbformat": 4,
 "nbformat_minor": 5
}
